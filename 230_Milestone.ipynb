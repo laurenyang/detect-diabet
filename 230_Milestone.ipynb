{
 "cells": [
  {
   "cell_type": "markdown",
   "metadata": {},
   "source": [
    "# Imports"
   ]
  },
  {
   "cell_type": "code",
   "execution_count": 15,
   "metadata": {},
   "outputs": [],
   "source": [
    "import math\n",
    "import numpy as np\n",
    "import os\n",
    "import h5py\n",
    "import matplotlib.pyplot as plt\n",
    "import scipy\n",
    "from PIL import Image\n",
    "from scipy import ndimage\n",
    "import tensorflow as tf\n",
    "from tensorflow.python.framework import ops\n",
    "from tensorflow import keras\n",
    "#from cnn_utils import *\n",
    "\n",
    "%matplotlib inline\n",
    "np.random.seed(1)\n",
    "directory = \"/Users/sushil/Downloads/github_images\"\n"
   ]
  },
  {
   "cell_type": "markdown",
   "metadata": {},
   "source": [
    "# Load dataset"
   ]
  },
  {
   "cell_type": "markdown",
   "metadata": {},
   "source": [
    "## Get labels"
   ]
  },
  {
   "cell_type": "code",
   "execution_count": 16,
   "metadata": {},
   "outputs": [
    {
     "name": "stdout",
     "output_type": "stream",
     "text": [
      "0\n"
     ]
    }
   ],
   "source": [
    "trainLabelsDict = {}\n",
    "\n",
    "i = 0\n",
    "for row in open('/Users/sushil/Downloads/trainLabels.csv'):\n",
    "    if (i == 0):\n",
    "        i += 1\n",
    "    else:\n",
    "        row = row.split(',')\n",
    "        trainLabelsDict[row[0] + \".jpeg\"] = int(row[1][:len(row[1]) - 1])\n",
    "print(trainLabelsDict['10_left.jpeg'])"
   ]
  },
  {
   "cell_type": "markdown",
   "metadata": {},
   "source": [
    "## Resize images"
   ]
  },
  {
   "cell_type": "code",
   "execution_count": 17,
   "metadata": {},
   "outputs": [
    {
     "name": "stdout",
     "output_type": "stream",
     "text": [
      "i:  0\n",
      "i:  50\n",
      "i:  100\n",
      "i:  150\n",
      "i:  200\n",
      "i:  250\n",
      "i:  300\n",
      "i:  350\n",
      "i:  400\n",
      "i:  450\n",
      "i:  500\n",
      "i:  550\n",
      "i:  600\n",
      "i:  650\n",
      "i:  700\n",
      "i:  750\n",
      "i:  800\n",
      "i:  850\n",
      "i:  900\n",
      "i:  950\n",
      "i:  1000\n",
      "i:  1050\n",
      "i:  1100\n",
      "i:  1150\n",
      "i:  1200\n",
      "i:  1250\n",
      "i:  1300\n",
      "i:  1350\n",
      "i:  1400\n",
      "i:  1450\n",
      "i:  1500\n",
      "i:  1550\n",
      "i:  1600\n",
      "i:  1650\n",
      "i:  1700\n",
      "i:  1750\n",
      "i:  1800\n",
      "i:  1850\n",
      "i:  1900\n",
      "i:  1950\n",
      "i:  2000\n",
      "i:  2050\n",
      "(2062, 475, 316, 3)\n",
      "(2062, 1)\n"
     ]
    }
   ],
   "source": [
    "X = []\n",
    "Y = []\n",
    "i = 0\n",
    "for filename in os.listdir(directory):\n",
    "    if filename.endswith(\".jpeg\"): \n",
    "        if(i%50==0):\n",
    "            print(\"i: \", i)\n",
    "        image_path = os.path.join(directory, filename)\n",
    "        im = Image.open(image_path)\n",
    "        resized_image = im.resize((475,316),Image.ANTIALIAS)\n",
    "        #resized_image.save(image_path[:-5]+\"_new.jpeg\",optimize=True,quality=85) #Don't need to save\n",
    "        #print(list(resized_image.getdata())[50000])\n",
    "        X_i = np.array(list(resized_image.getdata()))\n",
    "        X_i = np.reshape(X_i,(475,316,3))\n",
    "        X_i = X_i / 255.0\n",
    "        Y_i = trainLabelsDict[filename]\n",
    "        \n",
    "        X.append(X_i)\n",
    "        Y.append(Y_i)\n",
    "        i+=1\n",
    "X = np.array(X)\n",
    "Y = np.reshape(np.array(Y),(1,len(Y))).T\n",
    "print(X.shape)\n",
    "print(Y.shape)"
   ]
  },
  {
   "cell_type": "markdown",
   "metadata": {},
   "source": [
    "# Train our Model"
   ]
  },
  {
   "cell_type": "code",
   "execution_count": null,
   "metadata": {},
   "outputs": [],
   "source": [
    "# model = keras.Sequential([\n",
    "#     keras.layers.Flatten(input_shape=(475,316,3)),\n",
    "#     keras.layers.Dense(128, activation=tf.nn.relu),\n",
    "#     keras.layers.Dense(5, activation=tf.nn.softmax)\n",
    "# ], shuffle = True)\n",
    "\n",
    "model = keras.Sequential()\n",
    "model.add(keras.layers.Conv2D(64, kernel_size=3, activation='relu', input_shape=(475,316,3)))\n",
    "#model.add(keras.layers.Conv2D(32, kernel_size=3, activation='relu'))\n",
    "model.add(keras.layers.Flatten())\n",
    "model.add(keras.layers.Dense(5, activation=tf.nn.softmax))\n",
    "\n",
    "model.compile(optimizer='sgd', \n",
    "              loss='sparse_categorical_crossentropy',\n",
    "              metrics=['accuracy'])"
   ]
  },
  {
   "cell_type": "code",
   "execution_count": null,
   "metadata": {},
   "outputs": [
    {
     "name": "stdout",
     "output_type": "stream",
     "text": [
      "Train on 1649 samples, validate on 413 samples\n",
      "Epoch 1/50\n",
      "1649/1649 [==============================] - 337s 205ms/sample - loss: 4.5680 - acc: 0.7010 - val_loss: 4.8003 - val_acc: 0.7022\n",
      "Epoch 2/50\n",
      "1649/1649 [==============================] - 313s 190ms/sample - loss: 4.6135 - acc: 0.7138 - val_loss: 4.8003 - val_acc: 0.7022\n",
      "Epoch 3/50\n",
      "1649/1649 [==============================] - 376s 228ms/sample - loss: 4.6135 - acc: 0.7138 - val_loss: 4.8003 - val_acc: 0.7022\n",
      "Epoch 4/50\n",
      "1632/1649 [============================>.] - ETA: 10s - loss: 4.6023 - acc: 0.7145"
     ]
    }
   ],
   "source": [
    "model.fit(X, Y, epochs=50, validation_split = 0.2)"
   ]
  },
  {
   "cell_type": "code",
   "execution_count": null,
   "metadata": {},
   "outputs": [],
   "source": []
  }
 ],
 "metadata": {
  "kernelspec": {
   "display_name": "Python 3",
   "language": "python",
   "name": "python3"
  },
  "language_info": {
   "codemirror_mode": {
    "name": "ipython",
    "version": 3
   },
   "file_extension": ".py",
   "mimetype": "text/x-python",
   "name": "python",
   "nbconvert_exporter": "python",
   "pygments_lexer": "ipython3",
   "version": "3.7.1"
  }
 },
 "nbformat": 4,
 "nbformat_minor": 2
}
